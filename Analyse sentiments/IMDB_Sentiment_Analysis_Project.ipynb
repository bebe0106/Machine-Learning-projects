{
 "cells": [
  {
   "cell_type": "markdown",
   "id": "34b54a80",
   "metadata": {},
   "source": [
    "\n",
    "# Sentiment Analysis on IMDB Reviews"
   ]
  },
  {
   "cell_type": "markdown",
   "id": "823ad9d5",
   "metadata": {},
   "source": [
    "## Objective\n",
    "In this project, you will perform sentiment analysis on the IMDB movie reviews dataset. The goal is to classify reviews as either positive or negative based on their content.\n",
    "\n",
    "### Steps to Complete the Project:\n",
    "1. **Data Preprocessing**: Clean and prepare the text data.\n",
    "2. **Exploratory Data Analysis (EDA)**: Understand the distribution of the data and insights into word usage.\n",
    "3. **Feature Engineering**: Convert text into numerical representations (TF-IDF, CountVectorizer).\n",
    "4. **Model Training**: Train machine learning models (e.g., Logistic Regression, Naive Bayes).\n",
    "5. **Evaluation**: Assess model performance using metrics like accuracy, precision, recall, and F1-score.\n",
    "6. **Optimization**: Tune hyperparameters for better results.\n",
    "\n",
    "---\n"
   ]
  },
  {
   "cell_type": "markdown",
   "id": "00c91e1d",
   "metadata": {},
   "source": [
    "## Imports"
   ]
  },
  {
   "cell_type": "code",
   "execution_count": null,
   "id": "16b3e1d1",
   "metadata": {},
   "outputs": [],
   "source": [
    "import pandas as pd\n",
    "import matplotlib.pyplot as plt\n",
    "import numpy as np\n",
    "from sklearn.model_selection import GridSearchCV"
   ]
  },
  {
   "cell_type": "code",
   "execution_count": 40,
   "id": "e943d8f9",
   "metadata": {},
   "outputs": [],
   "source": [
    "plt.style.use('dark_background')\n"
   ]
  },
  {
   "cell_type": "markdown",
   "id": "b83def48",
   "metadata": {},
   "source": [
    "## Data processing"
   ]
  },
  {
   "cell_type": "code",
   "execution_count": 41,
   "id": "598235f0",
   "metadata": {},
   "outputs": [
    {
     "data": {
      "text/html": [
       "<div>\n",
       "<style scoped>\n",
       "    .dataframe tbody tr th:only-of-type {\n",
       "        vertical-align: middle;\n",
       "    }\n",
       "\n",
       "    .dataframe tbody tr th {\n",
       "        vertical-align: top;\n",
       "    }\n",
       "\n",
       "    .dataframe thead th {\n",
       "        text-align: right;\n",
       "    }\n",
       "</style>\n",
       "<table border=\"1\" class=\"dataframe\">\n",
       "  <thead>\n",
       "    <tr style=\"text-align: right;\">\n",
       "      <th></th>\n",
       "      <th>review</th>\n",
       "      <th>sentiment</th>\n",
       "    </tr>\n",
       "  </thead>\n",
       "  <tbody>\n",
       "    <tr>\n",
       "      <th>0</th>\n",
       "      <td>One of the other reviewers has mentioned that ...</td>\n",
       "      <td>positive</td>\n",
       "    </tr>\n",
       "    <tr>\n",
       "      <th>1</th>\n",
       "      <td>A wonderful little production. &lt;br /&gt;&lt;br /&gt;The...</td>\n",
       "      <td>positive</td>\n",
       "    </tr>\n",
       "    <tr>\n",
       "      <th>2</th>\n",
       "      <td>I thought this was a wonderful way to spend ti...</td>\n",
       "      <td>positive</td>\n",
       "    </tr>\n",
       "    <tr>\n",
       "      <th>3</th>\n",
       "      <td>Basically there's a family where a little boy ...</td>\n",
       "      <td>negative</td>\n",
       "    </tr>\n",
       "    <tr>\n",
       "      <th>4</th>\n",
       "      <td>Petter Mattei's \"Love in the Time of Money\" is...</td>\n",
       "      <td>positive</td>\n",
       "    </tr>\n",
       "  </tbody>\n",
       "</table>\n",
       "</div>"
      ],
      "text/plain": [
       "                                              review sentiment\n",
       "0  One of the other reviewers has mentioned that ...  positive\n",
       "1  A wonderful little production. <br /><br />The...  positive\n",
       "2  I thought this was a wonderful way to spend ti...  positive\n",
       "3  Basically there's a family where a little boy ...  negative\n",
       "4  Petter Mattei's \"Love in the Time of Money\" is...  positive"
      ]
     },
     "metadata": {},
     "output_type": "display_data"
    },
    {
     "data": {
      "text/html": [
       "<div>\n",
       "<style scoped>\n",
       "    .dataframe tbody tr th:only-of-type {\n",
       "        vertical-align: middle;\n",
       "    }\n",
       "\n",
       "    .dataframe tbody tr th {\n",
       "        vertical-align: top;\n",
       "    }\n",
       "\n",
       "    .dataframe thead th {\n",
       "        text-align: right;\n",
       "    }\n",
       "</style>\n",
       "<table border=\"1\" class=\"dataframe\">\n",
       "  <thead>\n",
       "    <tr style=\"text-align: right;\">\n",
       "      <th></th>\n",
       "      <th>review</th>\n",
       "      <th>sentiment</th>\n",
       "    </tr>\n",
       "  </thead>\n",
       "  <tbody>\n",
       "    <tr>\n",
       "      <th>count</th>\n",
       "      <td>50000</td>\n",
       "      <td>50000</td>\n",
       "    </tr>\n",
       "    <tr>\n",
       "      <th>unique</th>\n",
       "      <td>49582</td>\n",
       "      <td>2</td>\n",
       "    </tr>\n",
       "    <tr>\n",
       "      <th>top</th>\n",
       "      <td>Loved today's show!!! It was a variety and not...</td>\n",
       "      <td>positive</td>\n",
       "    </tr>\n",
       "    <tr>\n",
       "      <th>freq</th>\n",
       "      <td>5</td>\n",
       "      <td>25000</td>\n",
       "    </tr>\n",
       "  </tbody>\n",
       "</table>\n",
       "</div>"
      ],
      "text/plain": [
       "                                                   review sentiment\n",
       "count                                               50000     50000\n",
       "unique                                              49582         2\n",
       "top     Loved today's show!!! It was a variety and not...  positive\n",
       "freq                                                    5     25000"
      ]
     },
     "metadata": {},
     "output_type": "display_data"
    }
   ],
   "source": [
    "path = \"data/IMDB Dataset.csv\"\n",
    "\n",
    "data = pd.read_csv(path)\n",
    "display(data.head())\n",
    "display(data.describe())"
   ]
  },
  {
   "cell_type": "code",
   "execution_count": 42,
   "id": "0b7ec9c6",
   "metadata": {},
   "outputs": [
    {
     "name": "stdout",
     "output_type": "stream",
     "text": [
      "<class 'pandas.core.frame.DataFrame'>\n",
      "RangeIndex: 50000 entries, 0 to 49999\n",
      "Data columns (total 2 columns):\n",
      " #   Column     Non-Null Count  Dtype \n",
      "---  ------     --------------  ----- \n",
      " 0   review     50000 non-null  object\n",
      " 1   sentiment  50000 non-null  object\n",
      "dtypes: object(2)\n",
      "memory usage: 781.4+ KB\n"
     ]
    }
   ],
   "source": [
    "data.info()"
   ]
  },
  {
   "cell_type": "code",
   "execution_count": 43,
   "id": "067faebd",
   "metadata": {},
   "outputs": [
    {
     "name": "stdout",
     "output_type": "stream",
     "text": [
      "Number of Nulll values : 0\n"
     ]
    }
   ],
   "source": [
    "print(\"Number of Nulll values :\", data.isna().sum().sum())"
   ]
  },
  {
   "cell_type": "code",
   "execution_count": 44,
   "id": "0f662def",
   "metadata": {},
   "outputs": [
    {
     "name": "stdout",
     "output_type": "stream",
     "text": [
      "Number of duplicate :  418\n"
     ]
    }
   ],
   "source": [
    "print(\"Number of duplicate : \",len(data[data.duplicated()]))"
   ]
  },
  {
   "cell_type": "code",
   "execution_count": 45,
   "id": "cb6ecdab",
   "metadata": {},
   "outputs": [],
   "source": [
    "data.drop_duplicates(inplace=True)\n",
    "data = data.reset_index(drop=True)\n"
   ]
  },
  {
   "cell_type": "markdown",
   "id": "2709e46b",
   "metadata": {},
   "source": [
    "-----"
   ]
  },
  {
   "cell_type": "markdown",
   "id": "769c6631",
   "metadata": {},
   "source": [
    "## Exploratory Data Analysis (EDA)"
   ]
  },
  {
   "cell_type": "code",
   "execution_count": 46,
   "id": "a8edaebf",
   "metadata": {},
   "outputs": [
    {
     "data": {
      "image/png": "[encoded data removed]",
      "text/plain": [
       "<Figure size 1200x400 with 2 Axes>"
      ]
     },
     "metadata": {},
     "output_type": "display_data"
    }
   ],
   "source": [
    "sentiment_plot = data.groupby([\"sentiment\"]).count().reset_index()\n",
    "review_plot = data.review.apply(len)\n",
    "\n",
    "fig, axs =plt.subplots(1, 2, figsize=(12,4))\n",
    "\n",
    "axs[0].bar(sentiment_plot.sentiment, sentiment_plot.review)\n",
    "axs[0].set_title(\"Repartition of positive and negative reviews\")\n",
    "axs[0].set_ylabel(\"count\")\n",
    "\n",
    "axs[1].hist(review_plot, bins=50)\n",
    "axs[1].set_title(\"Distibution of reviews length\")\n",
    "\n",
    "plt.show()"
   ]
  },
  {
   "cell_type": "markdown",
   "id": "787c7e1c",
   "metadata": {},
   "source": [
    "-----"
   ]
  },
  {
   "cell_type": "markdown",
   "id": "a313670d",
   "metadata": {},
   "source": [
    "## Feature Engineering"
   ]
  },
  {
   "cell_type": "markdown",
   "id": "999e26fc",
   "metadata": {},
   "source": [
    "### Count-vectoriizor"
   ]
  },
  {
   "cell_type": "code",
   "execution_count": 47,
   "id": "20412436",
   "metadata": {},
   "outputs": [],
   "source": [
    "# words = set()\n",
    "\n",
    "# data.review.apply(lambda x: [words.add(word) for word in x.split(\" \")])"
   ]
  },
  {
   "cell_type": "markdown",
   "id": "eb712582",
   "metadata": {},
   "source": [
    "### TF-IDF (Term Frequency - Inverse Document Frequency)"
   ]
  },
  {
   "cell_type": "code",
   "execution_count": 48,
   "id": "7324fce1",
   "metadata": {},
   "outputs": [],
   "source": [
    "from sklearn.feature_extraction.text import TfidfVectorizer"
   ]
  },
  {
   "cell_type": "code",
   "execution_count": null,
   "id": "5c21d75d",
   "metadata": {},
   "outputs": [
    {
     "name": "stdout",
     "output_type": "stream",
     "text": [
      "Words :\n",
      "['10' '100' '15' '20' '30' '50' '80' '90' 'ability' 'able' 'absolutely'\n",
      " 'accent' 'act' 'acted' 'acting' 'action' 'actor' 'actors' 'actress'\n",
      " 'actual' 'actually' 'add' 'added' 'admit' 'adult' 'adventure' 'age' 'ago'\n",
      " 'agree' 'air' 'alien' 'alive' 'amazing' 'america' 'american' 'amusing'\n",
      " 'animation' 'annoying' 'anti' 'apart' 'apparently' 'appear' 'appears'\n",
      " 'appreciate' 'aren' 'army' 'art' 'aside' 'ask' 'atmosphere' 'attempt'\n",
      " 'attempts' 'attention' 'audience' 'audiences' 'average' 'avoid' 'away'\n",
      " 'awesome' 'awful' 'baby' 'background' 'bad' 'badly' 'band' 'barely'\n",
      " 'based' 'basic' 'basically' 'battle' 'beautiful' 'beauty' 'begin'\n",
      " 'beginning' 'begins' 'believable' 'believe' 'ben' 'best' 'better' 'big'\n",
      " 'biggest' 'bit' 'bizarre' 'black' 'blood' 'blue' 'body' 'book' 'books'\n",
      " 'bored' 'boring' 'bought' 'box' 'boy' 'boys' 'br' 'brain' 'break'\n",
      " 'brilliant' 'bring' 'brings' 'british' 'brother' 'brothers' 'brought'\n",
      " 'budget' 'bunch' 'business' 'buy' 'called' 'came' 'camera' 'camp' 'car'\n",
      " 'care' 'career' 'cartoon' 'case' 'cast' 'casting' 'cat' 'caught' 'cause'\n",
      " 'century' 'certain' 'certainly' 'chance' 'change' 'changed' 'channel'\n",
      " 'character' 'characters' 'charles' 'cheap' 'check' 'cheesy' 'chemistry'\n",
      " 'child' 'children' 'choice' 'christmas' 'cinema' 'cinematography' 'city'\n",
      " 'class' 'classic' 'clear' 'clearly' 'clever' 'close' 'cold' 'college'\n",
      " 'come' 'comedy' 'comes' 'comic' 'coming' 'comment' 'comments' 'common'\n",
      " 'company' 'compared' 'complete' 'completely' 'concept' 'conclusion'\n",
      " 'consider' 'considered' 'considering' 'control' 'convincing' 'cool' 'cop'\n",
      " 'copy' 'couldn' 'country' 'couple' 'course' 'cover' 'crap' 'crazy'\n",
      " 'create' 'created' 'credit' 'credits' 'creepy' 'crew' 'crime' 'cult'\n",
      " 'culture' 'cut' 'cute' 'dance' 'dancing' 'dark' 'daughter' 'david' 'day'\n",
      " 'days' 'dead' 'deal' 'death' 'decent' 'decide' 'decided' 'decides' 'deep'\n",
      " 'definitely' 'depth' 'deserves' 'despite' 'development' 'dialog'\n",
      " 'dialogue' 'did' 'didn' 'die' 'died' 'different' 'difficult' 'directed'\n",
      " 'directing' 'direction' 'director' 'directors' 'disappointed' 'disney'\n",
      " 'disturbing' 'doctor' 'documentary' 'does' 'doesn' 'dog' 'doing' 'don'\n",
      " 'doubt' 'dr' 'drama' 'dramatic' 'dream' 'drug' 'dull' 'dumb' 'dvd'\n",
      " 'earlier' 'early' 'earth' 'easily' 'easy' 'editing' 'effect' 'effective'\n",
      " 'effects' 'effort' 'elements' 'emotional' 'end' 'ended' 'ending' 'ends'\n",
      " 'english' 'enjoy' 'enjoyable' 'enjoyed' 'entertaining' 'entertainment'\n",
      " 'entire' 'entirely' 'episode' 'episodes' 'era' 'escape' 'especially'\n",
      " 'events' 'eventually' 'evil' 'ex' 'exactly' 'example' 'excellent'\n",
      " 'exciting' 'expect' 'expected' 'expecting' 'experience' 'extremely' 'eye'\n",
      " 'eyes' 'face' 'fact' 'failed' 'fails' 'fair' 'fairly' 'fake' 'fall'\n",
      " 'falls' 'familiar' 'family' 'famous' 'fan' 'fans' 'fantastic' 'fantasy'\n",
      " 'far' 'fast' 'father' 'favorite' 'fear' 'feature' 'features' 'feel'\n",
      " 'feeling' 'feels' 'felt' 'female' 'fi' 'fiction' 'fight' 'fighting'\n",
      " 'figure' 'filled' 'film' 'filmed' 'filmmakers' 'films' 'final' 'finally'\n",
      " 'finds' 'fine' 'fit' 'flat' 'flick' 'focus' 'follow' 'following'\n",
      " 'follows' 'footage' 'force' 'forced' 'forget' 'form' 'forward' 'free'\n",
      " 'french' 'friend' 'friends' 'fun' 'funny' 'future' 'game' 'gang'\n",
      " 'garbage' 'gave' 'gay' 'general' 'genius' 'genre' 'george' 'german'\n",
      " 'gets' 'getting' 'girl' 'girlfriend' 'girls' 'given' 'gives' 'giving'\n",
      " 'glad' 'god' 'goes' 'going' 'gone' 'good' 'gore' 'got' 'grade' 'great'\n",
      " 'greatest' 'group' 'guess' 'gun' 'guy' 'guys' 'hair' 'half' 'hand'\n",
      " 'hands' 'happen' 'happened' 'happens' 'happy' 'hard' 'hardly' 'hate'\n",
      " 'haven' 'having' 'head' 'hear' 'heard' 'heart' 'hell' 'help' 'hero'\n",
      " 'high' 'highly' 'hilarious' 'history' 'hit' 'hold' 'hollywood' 'home'\n",
      " 'honest' 'honestly' 'hope' 'horrible' 'horror' 'hot' 'hour' 'hours'\n",
      " 'house' 'huge' 'human' 'humor' 'humour' 'husband' 'idea' 'ideas' 'images'\n",
      " 'imagine' 'imdb' 'immediately' 'important' 'impossible' 'impressive'\n",
      " 'including' 'incredible' 'incredibly' 'inside' 'instead' 'intelligent'\n",
      " 'interested' 'interesting' 'involved' 'involving' 'island' 'isn'\n",
      " 'italian' 'jack' 'james' 'jane' 'japanese' 'jim' 'job' 'joe' 'john'\n",
      " 'joke' 'jokes' 'jones' 'journey' 'just' 'keeps' 'kept' 'kid' 'kids'\n",
      " 'kill' 'killed' 'killer' 'killing' 'kills' 'kind' 'king' 'knew' 'know'\n",
      " 'known' 'knows' 'la' 'lack' 'lady' 'lame' 'language' 'large' 'late'\n",
      " 'later' 'laugh' 'laughing' 'laughs' 'law' 'lead' 'leading' 'leads'\n",
      " 'learn' 'leave' 'leaves' 'leaving' 'lee' 'left' 'let' 'level' 'life'\n",
      " 'light' 'like' 'liked' 'likes' 'line' 'lines' 'list' 'literally' 'little'\n",
      " 'live' 'lives' 'living' 'll' 'local' 'long' 'longer' 'look' 'looked'\n",
      " 'looking' 'looks' 'lost' 'lot' 'lots' 'love' 'loved' 'low' 'mad' 'main'\n",
      " 'major' 'make' 'makers' 'makes' 'making' 'male' 'man' 'manages' 'mark'\n",
      " 'married' 'mary' 'master' 'masterpiece' 'match' 'material' 'matter'\n",
      " 'maybe' 'mean' 'meaning' 'means' 'meant' 'meet' 'meets' 'members'\n",
      " 'memorable' 'men' 'mention' 'mentioned' 'mess' 'message' 'michael'\n",
      " 'middle' 'mind' 'minute' 'minutes' 'miss' 'missed' 'missing' 'modern'\n",
      " 'moment' 'moments' 'money' 'monster' 'mood' 'mother' 'moves' 'movie'\n",
      " 'movies' 'moving' 'mr' 'murder' 'music' 'musical' 'mystery' 'named'\n",
      " 'nature' 'near' 'nearly' 'need' 'needed' 'needs' 'new' 'nice' 'night'\n",
      " 'non' 'normal' 'note' 'novel' 'nudity' 'number' 'obvious' 'obviously'\n",
      " 'odd' 'office' 'oh' 'ok' 'okay' 'old' 'older' 'ones' 'open' 'opening'\n",
      " 'opinion' 'order' 'original' 'oscar' 'outside' 'overall' 'pace' 'parents'\n",
      " 'park' 'particular' 'particularly' 'parts' 'party' 'past' 'pathetic'\n",
      " 'paul' 'pay' 'people' 'perfect' 'perfectly' 'performance' 'performances'\n",
      " 'period' 'person' 'personal' 'peter' 'pick' 'picture' 'piece' 'place'\n",
      " 'plain' 'play' 'played' 'playing' 'plays' 'plenty' 'plot' 'plus' 'point'\n",
      " 'pointless' 'points' 'police' 'political' 'poor' 'poorly' 'popular'\n",
      " 'portrayal' 'portrayed' 'positive' 'possible' 'possibly' 'post'\n",
      " 'potential' 'power' 'powerful' 'predictable' 'premise' 'present' 'pretty'\n",
      " 'previous' 'prison' 'probably' 'problem' 'problems' 'produced'\n",
      " 'producers' 'production' 'project' 'public' 'pure' 'quality' 'question'\n",
      " 'questions' 'quickly' 'quite' 'rate' 'rated' 'rating' 'read' 'reading'\n",
      " 'real' 'realistic' 'reality' 'realize' 'really' 'reason' 'reasons'\n",
      " 'recent' 'recently' 'recommend' 'recommended' 'red' 'relationship'\n",
      " 'release' 'released' 'remake' 'remember' 'rent' 'respect' 'rest' 'result'\n",
      " 'return' 'revenge' 'review' 'reviews' 'rich' 'richard' 'ridiculous'\n",
      " 'right' 'road' 'robert' 'rock' 'role' 'roles' 'romance' 'romantic' 'room'\n",
      " 'run' 'running' 'runs' 'sad' 'sadly' 'said' 'save' 'saw' 'say' 'saying'\n",
      " 'says' 'scary' 'scene' 'scenes' 'school' 'sci' 'science' 'score' 'scott'\n",
      " 'screen' 'screenplay' 'script' 'season' 'second' 'secret' 'seeing' 'seen'\n",
      " 'sees' 'self' 'sense' 'sequel' 'sequence' 'sequences' 'series'\n",
      " 'seriously' 'set' 'sets' 'setting' 'sex' 'sexual' 'sexy' 'shame' 'shoot'\n",
      " 'shooting' 'short' 'shot' 'shots' 'showed' 'showing' 'shown' 'shows'\n",
      " 'sick' 'silly' 'similar' 'simple' 'simply' 'singing' 'single' 'sister'\n",
      " 'sit' 'sitting' 'situation' 'situations' 'slasher' 'slightly' 'slow'\n",
      " 'small' 'social' 'society' 'soldiers' 'solid' 'somewhat' 'son' 'song'\n",
      " 'songs' 'soon' 'sorry' 'sort' 'sound' 'sounds' 'soundtrack' 'south'\n",
      " 'space' 'speak' 'special' 'spend' 'spent' 'spirit' 'spoilers' 'stage'\n",
      " 'stand' 'star' 'starring' 'stars' 'start' 'started' 'starts' 'state'\n",
      " 'stay' 'stick' 'stop' 'store' 'stories' 'story' 'storyline' 'straight'\n",
      " 'strange' 'street' 'strong' 'studio' 'stuff' 'stupid' 'style' 'subject'\n",
      " 'success' 'successful' 'suddenly' 'super' 'superb' 'supporting'\n",
      " 'supposed' 'sure' 'surprise' 'surprised' 'surprisingly' 'suspense'\n",
      " 'sweet' 'taken' 'takes' 'taking' 'tale' 'talent' 'talented' 'talk'\n",
      " 'talking' 'team' 'television' 'tell' 'telling' 'tells' 'tension'\n",
      " 'terrible' 'thanks' 'theater' 'theme' 'thing' 'things' 'think' 'thinking'\n",
      " 'thinks' 'thought' 'thriller' 'time' 'times' 'title' 'today' 'told' 'tom'\n",
      " 'tone' 'took' 'total' 'totally' 'touch' 'tough' 'town' 'train' 'trash'\n",
      " 'tried' 'tries' 'trip' 'trouble' 'true' 'truly' 'truth' 'try' 'trying'\n",
      " 'turn' 'turned' 'turns' 'tv' 'twist' 'twists' 'type' 'typical'\n",
      " 'ultimately' 'understand' 'unfortunately' 'unique' 'unless' 'unlike'\n",
      " 'use' 'used' 'uses' 'using' 'usual' 'usually' 'value' 'values' 'vampire'\n",
      " 'van' 'various' 've' 'version' 'video' 'view' 'viewer' 'viewers'\n",
      " 'viewing' 'villain' 'violence' 'violent' 'visual' 'voice' 'wait'\n",
      " 'waiting' 'walk' 'want' 'wanted' 'wants' 'war' 'wasn' 'waste' 'wasted'\n",
      " 'watch' 'watched' 'watching' 'water' 'way' 'ways' 'weak' 'week' 'weird'\n",
      " 'went' 'weren' 'west' 'western' 'white' 'wife' 'william' 'win' 'wish'\n",
      " 'woman' 'women' 'won' 'wonder' 'wonderful' 'word' 'words' 'work' 'worked'\n",
      " 'working' 'works' 'world' 'worse' 'worst' 'worth' 'wouldn' 'write'\n",
      " 'writer' 'writers' 'writing' 'written' 'wrong' 'wrote' 'yeah' 'year'\n",
      " 'years' 'yes' 'york' 'young' 'younger' 'zombie']\n"
     ]
    }
   ],
   "source": [
    "def to_vectorize(data, max_features = 1000, stop_words = \"english\", verbose = 0):\n",
    "\n",
    "    tfidf = TfidfVectorizer(max_features = max_features, stop_words=stop_words)\n",
    "    result = tfidf.fit_transform(data.review)\n",
    "\n",
    "    if verbose == 1 : \n",
    "        print(\"Words :\")\n",
    "        print(tfidf.get_feature_names_out())\n",
    "        \n",
    "    return result\n",
    "\n",
    "result = to_vectorize(data=data, verbose=1)"
   ]
  },
  {
   "cell_type": "code",
   "execution_count": 137,
   "id": "2da4925b",
   "metadata": {},
   "outputs": [
    {
     "data": {
      "text/html": [
       "<div>\n",
       "<style scoped>\n",
       "    .dataframe tbody tr th:only-of-type {\n",
       "        vertical-align: middle;\n",
       "    }\n",
       "\n",
       "    .dataframe tbody tr th {\n",
       "        vertical-align: top;\n",
       "    }\n",
       "\n",
       "    .dataframe thead th {\n",
       "        text-align: right;\n",
       "    }\n",
       "</style>\n",
       "<table border=\"1\" class=\"dataframe\">\n",
       "  <thead>\n",
       "    <tr style=\"text-align: right;\">\n",
       "      <th></th>\n",
       "      <th>0</th>\n",
       "      <th>1</th>\n",
       "      <th>2</th>\n",
       "      <th>3</th>\n",
       "      <th>4</th>\n",
       "      <th>5</th>\n",
       "      <th>6</th>\n",
       "      <th>7</th>\n",
       "      <th>8</th>\n",
       "      <th>9</th>\n",
       "      <th>...</th>\n",
       "      <th>991</th>\n",
       "      <th>992</th>\n",
       "      <th>993</th>\n",
       "      <th>994</th>\n",
       "      <th>995</th>\n",
       "      <th>996</th>\n",
       "      <th>997</th>\n",
       "      <th>998</th>\n",
       "      <th>999</th>\n",
       "      <th>sentiment</th>\n",
       "    </tr>\n",
       "  </thead>\n",
       "  <tbody>\n",
       "    <tr>\n",
       "      <th>0</th>\n",
       "      <td>0.000000</td>\n",
       "      <td>0.0</td>\n",
       "      <td>0.0</td>\n",
       "      <td>0.0</td>\n",
       "      <td>0.0</td>\n",
       "      <td>0.0</td>\n",
       "      <td>0.0</td>\n",
       "      <td>0.0</td>\n",
       "      <td>0.0</td>\n",
       "      <td>0.0</td>\n",
       "      <td>...</td>\n",
       "      <td>0.0</td>\n",
       "      <td>0.0</td>\n",
       "      <td>0.0</td>\n",
       "      <td>0.000000</td>\n",
       "      <td>0.0</td>\n",
       "      <td>0.000000</td>\n",
       "      <td>0.000000</td>\n",
       "      <td>0.0</td>\n",
       "      <td>0.000000</td>\n",
       "      <td>1</td>\n",
       "    </tr>\n",
       "    <tr>\n",
       "      <th>1</th>\n",
       "      <td>0.000000</td>\n",
       "      <td>0.0</td>\n",
       "      <td>0.0</td>\n",
       "      <td>0.0</td>\n",
       "      <td>0.0</td>\n",
       "      <td>0.0</td>\n",
       "      <td>0.0</td>\n",
       "      <td>0.0</td>\n",
       "      <td>0.0</td>\n",
       "      <td>0.0</td>\n",
       "      <td>...</td>\n",
       "      <td>0.0</td>\n",
       "      <td>0.0</td>\n",
       "      <td>0.0</td>\n",
       "      <td>0.000000</td>\n",
       "      <td>0.0</td>\n",
       "      <td>0.000000</td>\n",
       "      <td>0.000000</td>\n",
       "      <td>0.0</td>\n",
       "      <td>0.000000</td>\n",
       "      <td>1</td>\n",
       "    </tr>\n",
       "    <tr>\n",
       "      <th>2</th>\n",
       "      <td>0.000000</td>\n",
       "      <td>0.0</td>\n",
       "      <td>0.0</td>\n",
       "      <td>0.0</td>\n",
       "      <td>0.0</td>\n",
       "      <td>0.0</td>\n",
       "      <td>0.0</td>\n",
       "      <td>0.0</td>\n",
       "      <td>0.0</td>\n",
       "      <td>0.0</td>\n",
       "      <td>...</td>\n",
       "      <td>0.0</td>\n",
       "      <td>0.0</td>\n",
       "      <td>0.0</td>\n",
       "      <td>0.115582</td>\n",
       "      <td>0.0</td>\n",
       "      <td>0.000000</td>\n",
       "      <td>0.127029</td>\n",
       "      <td>0.0</td>\n",
       "      <td>0.000000</td>\n",
       "      <td>1</td>\n",
       "    </tr>\n",
       "    <tr>\n",
       "      <th>3</th>\n",
       "      <td>0.092243</td>\n",
       "      <td>0.0</td>\n",
       "      <td>0.0</td>\n",
       "      <td>0.0</td>\n",
       "      <td>0.0</td>\n",
       "      <td>0.0</td>\n",
       "      <td>0.0</td>\n",
       "      <td>0.0</td>\n",
       "      <td>0.0</td>\n",
       "      <td>0.0</td>\n",
       "      <td>...</td>\n",
       "      <td>0.0</td>\n",
       "      <td>0.0</td>\n",
       "      <td>0.0</td>\n",
       "      <td>0.000000</td>\n",
       "      <td>0.0</td>\n",
       "      <td>0.000000</td>\n",
       "      <td>0.000000</td>\n",
       "      <td>0.0</td>\n",
       "      <td>0.337799</td>\n",
       "      <td>0</td>\n",
       "    </tr>\n",
       "    <tr>\n",
       "      <th>4</th>\n",
       "      <td>0.000000</td>\n",
       "      <td>0.0</td>\n",
       "      <td>0.0</td>\n",
       "      <td>0.0</td>\n",
       "      <td>0.0</td>\n",
       "      <td>0.0</td>\n",
       "      <td>0.0</td>\n",
       "      <td>0.0</td>\n",
       "      <td>0.0</td>\n",
       "      <td>0.0</td>\n",
       "      <td>...</td>\n",
       "      <td>0.0</td>\n",
       "      <td>0.0</td>\n",
       "      <td>0.0</td>\n",
       "      <td>0.000000</td>\n",
       "      <td>0.0</td>\n",
       "      <td>0.131456</td>\n",
       "      <td>0.000000</td>\n",
       "      <td>0.0</td>\n",
       "      <td>0.000000</td>\n",
       "      <td>1</td>\n",
       "    </tr>\n",
       "  </tbody>\n",
       "</table>\n",
       "<p>5 rows × 1001 columns</p>\n",
       "</div>"
      ],
      "text/plain": [
       "          0    1    2    3    4    5    6    7    8    9  ...  991  992  993  \\\n",
       "0  0.000000  0.0  0.0  0.0  0.0  0.0  0.0  0.0  0.0  0.0  ...  0.0  0.0  0.0   \n",
       "1  0.000000  0.0  0.0  0.0  0.0  0.0  0.0  0.0  0.0  0.0  ...  0.0  0.0  0.0   \n",
       "2  0.000000  0.0  0.0  0.0  0.0  0.0  0.0  0.0  0.0  0.0  ...  0.0  0.0  0.0   \n",
       "3  0.092243  0.0  0.0  0.0  0.0  0.0  0.0  0.0  0.0  0.0  ...  0.0  0.0  0.0   \n",
       "4  0.000000  0.0  0.0  0.0  0.0  0.0  0.0  0.0  0.0  0.0  ...  0.0  0.0  0.0   \n",
       "\n",
       "        994  995       996       997  998       999  sentiment  \n",
       "0  0.000000  0.0  0.000000  0.000000  0.0  0.000000          1  \n",
       "1  0.000000  0.0  0.000000  0.000000  0.0  0.000000          1  \n",
       "2  0.115582  0.0  0.000000  0.127029  0.0  0.000000          1  \n",
       "3  0.000000  0.0  0.000000  0.000000  0.0  0.337799          0  \n",
       "4  0.000000  0.0  0.131456  0.000000  0.0  0.000000          1  \n",
       "\n",
       "[5 rows x 1001 columns]"
      ]
     },
     "execution_count": 137,
     "metadata": {},
     "output_type": "execute_result"
    }
   ],
   "source": [
    "def vector_to_df(vectors, data):\n",
    "    df = pd.DataFrame(vectors.toarray())\n",
    "    df[\"sentiment\"] = data.sentiment\n",
    "\n",
    "    df.sentiment = df.sentiment.map({\"positive\" : 1,\"negative\" : 0})\n",
    "    return df\n",
    "\n",
    "df = vector_to_df(result, data)\n",
    "df.head()"
   ]
  },
  {
   "cell_type": "markdown",
   "id": "bcdb11be",
   "metadata": {},
   "source": [
    "-----"
   ]
  },
  {
   "cell_type": "markdown",
   "id": "be0ea177",
   "metadata": {},
   "source": [
    "## Model Training"
   ]
  },
  {
   "cell_type": "code",
   "execution_count": null,
   "id": "afbbfc9d",
   "metadata": {},
   "outputs": [
    {
     "data": {
      "text/html": [
       "<style>#sk-container-id-6 {color: black;}#sk-container-id-6 pre{padding: 0;}#sk-container-id-6 div.sk-toggleable {background-color: white;}#sk-container-id-6 label.sk-toggleable__label {cursor: pointer;display: block;width: 100%;margin-bottom: 0;padding: 0.3em;box-sizing: border-box;text-align: center;}#sk-container-id-6 label.sk-toggleable__label-arrow:before {content: \"▸\";float: left;margin-right: 0.25em;color: #696969;}#sk-container-id-6 label.sk-toggleable__label-arrow:hover:before {color: black;}#sk-container-id-6 div.sk-estimator:hover label.sk-toggleable__label-arrow:before {color: black;}#sk-container-id-6 div.sk-toggleable__content {max-height: 0;max-width: 0;overflow: hidden;text-align: left;background-color: #f0f8ff;}#sk-container-id-6 div.sk-toggleable__content pre {margin: 0.2em;color: black;border-radius: 0.25em;background-color: #f0f8ff;}#sk-container-id-6 input.sk-toggleable__control:checked~div.sk-toggleable__content {max-height: 200px;max-width: 100%;overflow: auto;}#sk-container-id-6 input.sk-toggleable__control:checked~label.sk-toggleable__label-arrow:before {content: \"▾\";}#sk-container-id-6 div.sk-estimator input.sk-toggleable__control:checked~label.sk-toggleable__label {background-color: #d4ebff;}#sk-container-id-6 div.sk-label input.sk-toggleable__control:checked~label.sk-toggleable__label {background-color: #d4ebff;}#sk-container-id-6 input.sk-hidden--visually {border: 0;clip: rect(1px 1px 1px 1px);clip: rect(1px, 1px, 1px, 1px);height: 1px;margin: -1px;overflow: hidden;padding: 0;position: absolute;width: 1px;}#sk-container-id-6 div.sk-estimator {font-family: monospace;background-color: #f0f8ff;border: 1px dotted black;border-radius: 0.25em;box-sizing: border-box;margin-bottom: 0.5em;}#sk-container-id-6 div.sk-estimator:hover {background-color: #d4ebff;}#sk-container-id-6 div.sk-parallel-item::after {content: \"\";width: 100%;border-bottom: 1px solid gray;flex-grow: 1;}#sk-container-id-6 div.sk-label:hover label.sk-toggleable__label {background-color: #d4ebff;}#sk-container-id-6 div.sk-serial::before {content: \"\";position: absolute;border-left: 1px solid gray;box-sizing: border-box;top: 0;bottom: 0;left: 50%;z-index: 0;}#sk-container-id-6 div.sk-serial {display: flex;flex-direction: column;align-items: center;background-color: white;padding-right: 0.2em;padding-left: 0.2em;position: relative;}#sk-container-id-6 div.sk-item {position: relative;z-index: 1;}#sk-container-id-6 div.sk-parallel {display: flex;align-items: stretch;justify-content: center;background-color: white;position: relative;}#sk-container-id-6 div.sk-item::before, #sk-container-id-6 div.sk-parallel-item::before {content: \"\";position: absolute;border-left: 1px solid gray;box-sizing: border-box;top: 0;bottom: 0;left: 50%;z-index: -1;}#sk-container-id-6 div.sk-parallel-item {display: flex;flex-direction: column;z-index: 1;position: relative;background-color: white;}#sk-container-id-6 div.sk-parallel-item:first-child::after {align-self: flex-end;width: 50%;}#sk-container-id-6 div.sk-parallel-item:last-child::after {align-self: flex-start;width: 50%;}#sk-container-id-6 div.sk-parallel-item:only-child::after {width: 0;}#sk-container-id-6 div.sk-dashed-wrapped {border: 1px dashed gray;margin: 0 0.4em 0.5em 0.4em;box-sizing: border-box;padding-bottom: 0.4em;background-color: white;}#sk-container-id-6 div.sk-label label {font-family: monospace;font-weight: bold;display: inline-block;line-height: 1.2em;}#sk-container-id-6 div.sk-label-container {text-align: center;}#sk-container-id-6 div.sk-container {/* jupyter's `normalize.less` sets `[hidden] { display: none; }` but bootstrap.min.css set `[hidden] { display: none !important; }` so we also need the `!important` here to be able to override the default hidden behavior on the sphinx rendered scikit-learn.org. See: https://github.com/scikit-learn/scikit-learn/issues/21755 */display: inline-block !important;position: relative;}#sk-container-id-6 div.sk-text-repr-fallback {display: none;}</style><div id=\"sk-container-id-6\" class=\"sk-top-container\"><div class=\"sk-text-repr-fallback\"><pre>LogisticRegression()</pre><b>In a Jupyter environment, please rerun this cell to show the HTML representation or trust the notebook. <br />On GitHub, the HTML representation is unable to render, please try loading this page with nbviewer.org.</b></div><div class=\"sk-container\" hidden><div class=\"sk-item\"><div class=\"sk-estimator sk-toggleable\"><input class=\"sk-toggleable__control sk-hidden--visually\" id=\"sk-estimator-id-6\" type=\"checkbox\" checked><label for=\"sk-estimator-id-6\" class=\"sk-toggleable__label sk-toggleable__label-arrow\">LogisticRegression</label><div class=\"sk-toggleable__content\"><pre>LogisticRegression()</pre></div></div></div></div></div>"
      ],
      "text/plain": [
       "LogisticRegression()"
      ]
     },
     "execution_count": 128,
     "metadata": {},
     "output_type": "execute_result"
    }
   ],
   "source": [
    "from sklearn.model_selection import train_test_split\n",
    "from sklearn.linear_model import LogisticRegression\n",
    "from sklearn.model_selection import cross_val_score\n",
    "\n",
    "X = df.drop(columns=[\"sentiment\"])\n",
    "Y = df.sentiment\n",
    "test_size = 0.2\n",
    "\n",
    "X_train, X_test, Y_train, Y_test = train_test_split(X, Y, test_size=test_size, random_state=42)\n",
    "\n",
    "model = LogisticRegression()\n",
    "\n",
    "model.fit(X_train, Y_train)\n"
   ]
  },
  {
   "cell_type": "markdown",
   "id": "a278f9e1",
   "metadata": {},
   "source": [
    "## Evaluation "
   ]
  },
  {
   "cell_type": "code",
   "execution_count": 152,
   "id": "b034786d",
   "metadata": {},
   "outputs": [],
   "source": [
    "from sklearn.metrics import confusion_matrix\n",
    "from sklearn.metrics import classification_report\n",
    "from sklearn.metrics import  accuracy_score\n",
    "import seaborn as sns\n"
   ]
  },
  {
   "cell_type": "code",
   "execution_count": 143,
   "id": "297c4c06",
   "metadata": {},
   "outputs": [
    {
     "name": "stdout",
     "output_type": "stream",
     "text": [
      "              precision    recall  f1-score   support\n",
      "\n",
      "    negative      0.869     0.841     0.855      4939\n",
      "    positive      0.847     0.875     0.861      4978\n",
      "\n",
      "    accuracy                          0.858      9917\n",
      "   macro avg      0.858     0.858     0.858      9917\n",
      "weighted avg      0.858     0.858     0.858      9917\n",
      "\n"
     ]
    }
   ],
   "source": [
    "Y_pred = model.predict(X_test)\n",
    "\n",
    "report = classification_report(Y_test, Y_pred, target_names=[\"negative\", \"positive\"], digits=3)\n",
    "print(report)"
   ]
  },
  {
   "cell_type": "code",
   "execution_count": 79,
   "id": "ab03d928",
   "metadata": {},
   "outputs": [
    {
     "data": {
      "image/png": "[encoded data removed]",
      "text/plain": [
       "<Figure size 600x400 with 2 Axes>"
      ]
     },
     "metadata": {},
     "output_type": "display_data"
    }
   ],
   "source": [
    "import matplotlib.pyplot as plt\n",
    "\n",
    "conf_matrix = confusion_matrix(Y_test, Y_pred)\n",
    "\n",
    "plt.figure(figsize=(6,4))\n",
    "sns.heatmap(conf_matrix, annot=True, fmt=\"d\", cmap=\"Blues\")\n",
    "plt.xlabel(\"Predictions\")\n",
    "plt.ylabel(\"True values\")\n",
    "plt.title(\"Confusion matrix\")\n",
    "plt.show()"
   ]
  },
  {
   "cell_type": "markdown",
   "id": "d09f3119",
   "metadata": {},
   "source": [
    "----"
   ]
  },
  {
   "cell_type": "markdown",
   "id": "303eeb49",
   "metadata": {},
   "source": [
    "## Optimization"
   ]
  },
  {
   "cell_type": "code",
   "execution_count": 232,
   "id": "d78ddb46",
   "metadata": {},
   "outputs": [],
   "source": [
    "from sklearn.model_selection import GridSearchCV\n",
    "import warnings\n",
    "from sklearn.exceptions import ConvergenceWarning\n",
    "import plotly.express as px\n",
    "import plotly.io as pio"
   ]
  },
  {
   "cell_type": "markdown",
   "id": "fd865808",
   "metadata": {},
   "source": [
    "### Using gridsearch"
   ]
  },
  {
   "cell_type": "code",
   "execution_count": 124,
   "id": "82f2a618",
   "metadata": {},
   "outputs": [
    {
     "name": "stdout",
     "output_type": "stream",
     "text": [
      "Fitting 3 folds for each of 3 candidates, totalling 9 fits\n"
     ]
    }
   ],
   "source": [
    "params = [    \n",
    "    {\n",
    "    # 'penalty' : ['l1', 'l2', 'elasticnet', 'none'],   # Used to specify the norm used in the penalization.\n",
    "    # 'solver' : ['lbfgs','newton-cg','liblinear','sag','saga'],  # Algorithm to use in the optimization problem.\n",
    "    'max_iter' : [75, 100, 150]                # Maximum number of iterations taken for the solvers to converge.\n",
    "    }\n",
    "]\n",
    "\n",
    "clf = GridSearchCV(estimator = LogisticRegression(), param_grid = params, scoring = 'accuracy', cv = 3, verbose=1, n_jobs=-1)\n",
    "clf_fit = clf.fit(X,Y)"
   ]
  },
  {
   "cell_type": "code",
   "execution_count": 123,
   "id": "b9b1f356",
   "metadata": {},
   "outputs": [
    {
     "name": "stdout",
     "output_type": "stream",
     "text": [
      "Best params : {'max_iter': 75}\n",
      "Best accuracy : 0.86\n"
     ]
    }
   ],
   "source": [
    "print(\"Best params :\",clf_fit.best_params_)\n",
    "print(\"Best accuracy :\", round(clf_fit.best_score_, 3))"
   ]
  },
  {
   "cell_type": "markdown",
   "id": "3f912401",
   "metadata": {},
   "source": [
    "### Searching for the best number of words"
   ]
  },
  {
   "cell_type": "code",
   "execution_count": 178,
   "id": "c271fbf6",
   "metadata": {},
   "outputs": [],
   "source": [
    "def search_features(data, features, interations=[100], cross_validation = False):\n",
    "\n",
    "    result = pd.DataFrame(columns=[\"features\",\"iteration\",\"accuracy\"])\n",
    "\n",
    "    for f in features:\n",
    "        for i in interations :\n",
    "            vectors = to_vectorize(data, max_features=f)\n",
    "            df = vector_to_df(vectors, data)\n",
    "\n",
    "            if cross_validation :\n",
    "                print(\"test\")\n",
    "\n",
    "            else : \n",
    "                X = df.drop(columns=[\"sentiment\"])\n",
    "                Y = df.sentiment\n",
    "                X_train, X_test, Y_train, Y_test = train_test_split(X, Y, test_size=0.2, random_state=42)\n",
    "                \n",
    "                model = LogisticRegression(max_iter=i)\n",
    "                model.fit(X_train, Y_train)\n",
    "\n",
    "                Y_pred = model.predict(X_test)\n",
    "                acc = accuracy_score(Y_pred, Y_test)\n",
    "\n",
    "            result.loc[len(result)] = [f, i,round(acc,4)]\n",
    "\n",
    "    return result\n"
   ]
  },
  {
   "cell_type": "code",
   "execution_count": null,
   "id": "c76451b8",
   "metadata": {},
   "outputs": [],
   "source": [
    "warnings.filterwarnings(\"ignore\", category=ConvergenceWarning)\n",
    "\n",
    "features    = [500, 1000, 2500, 5000, 7500, 10000, 12500, 15000]\n",
    "iterations  = [100, 200, 300]\n",
    "\n",
    "res = search_features(data, features, iterations)"
   ]
  },
  {
   "cell_type": "code",
   "execution_count": null,
   "id": "4dbfe58b",
   "metadata": {},
   "outputs": [
    {
     "data": {
      "image/png": "[encoded data removed]",
      "text/plain": [
       "<Figure size 800x500 with 1 Axes>"
      ]
     },
     "metadata": {},
     "output_type": "display_data"
    }
   ],
   "source": [
    "plot_acc = res.groupby([\"features\"]).max().reset_index()\n",
    "plt.figure(figsize=(8,5))\n",
    "\n",
    "plt.title(\"Max accuracy overs features\")\n",
    "plt.plot(plot_acc.features, plot_acc.accuracy, marker='o')\n",
    "plt.ylabel(\"Model accuracy\")\n",
    "plt.xlabel(\"Number of featured words\")\n",
    "\n",
    "plt.show()\n",
    "\n"
   ]
  },
  {
   "cell_type": "code",
   "execution_count": null,
   "id": "5084c506",
   "metadata": {},
   "outputs": [
    {
     "data": {
      "application/vnd.plotly.v1+json": {
       "config": {
        "plotlyServerURL": "https://plot.ly"
       },
       "data": [
        {
         "hovertemplate": "Number of Featured Words=%{x}<br>Model Accuracy=%{y}<extra></extra>",
         "legendgroup": "",
         "line": {
          "color": "royalblue",
          "dash": "solid"
         },
         "marker": {
          "size": 8,
          "symbol": "circle"
         },
         "mode": "lines+markers",
         "name": "",
         "orientation": "v",
         "showlegend": false,
         "type": "scatter",
         "x": [
          500,
          1000,
          2500,
          5000,
          7500,
          10000,
          12500,
          15000
         ],
         "xaxis": "x",
         "y": [
          0.8363,
          0.8578,
          0.8804,
          0.8859,
          0.8869,
          0.89,
          0.8902,
          0.8917
         ],
         "yaxis": "y"
        }
       ],
       "layout": {
        "font": {
         "size": 12
        },
        "height": 500,
        "legend": {
         "tracegroupgap": 0
        },
        "template": {
         "data": {
          "bar": [
           {
            "error_x": {
             "color": "#f2f5fa"
            },
            "error_y": {
             "color": "#f2f5fa"
            },
            "marker": {
             "line": {
              "color": "rgb(17,17,17)",
              "width": 0.5
             },
             "pattern": {
              "fillmode": "overlay",
              "size": 10,
              "solidity": 0.2
             }
            },
            "type": "bar"
           }
          ],
          "barpolar": [
           {
            "marker": {
             "line": {
              "color": "rgb(17,17,17)",
              "width": 0.5
             },
             "pattern": {
              "fillmode": "overlay",
              "size": 10,
              "solidity": 0.2
             }
            },
            "type": "barpolar"
           }
          ],
          "carpet": [
           {
            "aaxis": {
             "endlinecolor": "#A2B1C6",
             "gridcolor": "#506784",
             "linecolor": "#506784",
             "minorgridcolor": "#506784",
             "startlinecolor": "#A2B1C6"
            },
            "baxis": {
             "endlinecolor": "#A2B1C6",
             "gridcolor": "#506784",
             "linecolor": "#506784",
             "minorgridcolor": "#506784",
             "startlinecolor": "#A2B1C6"
            },
            "type": "carpet"
           }
          ],
          "choropleth": [
           {
            "colorbar": {
             "outlinewidth": 0,
             "ticks": ""
            },
            "type": "choropleth"
           }
          ],
          "contour": [
           {
            "colorbar": {
             "outlinewidth": 0,
             "ticks": ""
            },
            "colorscale": [
             [
              0,
              "#0d0887"
             ],
             [
              0.1111111111111111,
              "#46039f"
             ],
             [
              0.2222222222222222,
              "#7201a8"
             ],
             [
              0.3333333333333333,
              "#9c179e"
             ],
             [
              0.4444444444444444,
              "#bd3786"
             ],
             [
              0.5555555555555556,
              "#d8576b"
             ],
             [
              0.6666666666666666,
              "#ed7953"
             ],
             [
              0.7777777777777778,
              "#fb9f3a"
             ],
             [
              0.8888888888888888,
              "#fdca26"
             ],
             [
              1,
              "#f0f921"
             ]
            ],
            "type": "contour"
           }
          ],
          "contourcarpet": [
           {
            "colorbar": {
             "outlinewidth": 0,
             "ticks": ""
            },
            "type": "contourcarpet"
           }
          ],
          "heatmap": [
           {
            "colorbar": {
             "outlinewidth": 0,
             "ticks": ""
            },
            "colorscale": [
             [
              0,
              "#0d0887"
             ],
             [
              0.1111111111111111,
              "#46039f"
             ],
             [
              0.2222222222222222,
              "#7201a8"
             ],
             [
              0.3333333333333333,
              "#9c179e"
             ],
             [
              0.4444444444444444,
              "#bd3786"
             ],
             [
              0.5555555555555556,
              "#d8576b"
             ],
             [
              0.6666666666666666,
              "#ed7953"
             ],
             [
              0.7777777777777778,
              "#fb9f3a"
             ],
             [
              0.8888888888888888,
              "#fdca26"
             ],
             [
              1,
              "#f0f921"
             ]
            ],
            "type": "heatmap"
           }
          ],
          "heatmapgl": [
           {
            "colorbar": {
             "outlinewidth": 0,
             "ticks": ""
            },
            "colorscale": [
             [
              0,
              "#0d0887"
             ],
             [
              0.1111111111111111,
              "#46039f"
             ],
             [
              0.2222222222222222,
              "#7201a8"
             ],
             [
              0.3333333333333333,
              "#9c179e"
             ],
             [
              0.4444444444444444,
              "#bd3786"
             ],
             [
              0.5555555555555556,
              "#d8576b"
             ],
             [
              0.6666666666666666,
              "#ed7953"
             ],
             [
              0.7777777777777778,
              "#fb9f3a"
             ],
             [
              0.8888888888888888,
              "#fdca26"
             ],
             [
              1,
              "#f0f921"
             ]
            ],
            "type": "heatmapgl"
           }
          ],
          "histogram": [
           {
            "marker": {
             "pattern": {
              "fillmode": "overlay",
              "size": 10,
              "solidity": 0.2
             }
            },
            "type": "histogram"
           }
          ],
          "histogram2d": [
           {
            "colorbar": {
             "outlinewidth": 0,
             "ticks": ""
            },
            "colorscale": [
             [
              0,
              "#0d0887"
             ],
             [
              0.1111111111111111,
              "#46039f"
             ],
             [
              0.2222222222222222,
              "#7201a8"
             ],
             [
              0.3333333333333333,
              "#9c179e"
             ],
             [
              0.4444444444444444,
              "#bd3786"
             ],
             [
              0.5555555555555556,
              "#d8576b"
             ],
             [
              0.6666666666666666,
              "#ed7953"
             ],
             [
              0.7777777777777778,
              "#fb9f3a"
             ],
             [
              0.8888888888888888,
              "#fdca26"
             ],
             [
              1,
              "#f0f921"
             ]
            ],
            "type": "histogram2d"
           }
          ],
          "histogram2dcontour": [
           {
            "colorbar": {
             "outlinewidth": 0,
             "ticks": ""
            },
            "colorscale": [
             [
              0,
              "#0d0887"
             ],
             [
              0.1111111111111111,
              "#46039f"
             ],
             [
              0.2222222222222222,
              "#7201a8"
             ],
             [
              0.3333333333333333,
              "#9c179e"
             ],
             [
              0.4444444444444444,
              "#bd3786"
             ],
             [
              0.5555555555555556,
              "#d8576b"
             ],
             [
              0.6666666666666666,
              "#ed7953"
             ],
             [
              0.7777777777777778,
              "#fb9f3a"
             ],
             [
              0.8888888888888888,
              "#fdca26"
             ],
             [
              1,
              "#f0f921"
             ]
            ],
            "type": "histogram2dcontour"
           }
          ],
          "mesh3d": [
           {
            "colorbar": {
             "outlinewidth": 0,
             "ticks": ""
            },
            "type": "mesh3d"
           }
          ],
          "parcoords": [
           {
            "line": {
             "colorbar": {
              "outlinewidth": 0,
              "ticks": ""
             }
            },
            "type": "parcoords"
           }
          ],
          "pie": [
           {
            "automargin": true,
            "type": "pie"
           }
          ],
          "scatter": [
           {
            "marker": {
             "line": {
              "color": "#283442"
             }
            },
            "type": "scatter"
           }
          ],
          "scatter3d": [
           {
            "line": {
             "colorbar": {
              "outlinewidth": 0,
              "ticks": ""
             }
            },
            "marker": {
             "colorbar": {
              "outlinewidth": 0,
              "ticks": ""
             }
            },
            "type": "scatter3d"
           }
          ],
          "scattercarpet": [
           {
            "marker": {
             "colorbar": {
              "outlinewidth": 0,
              "ticks": ""
             }
            },
            "type": "scattercarpet"
           }
          ],
          "scattergeo": [
           {
            "marker": {
             "colorbar": {
              "outlinewidth": 0,
              "ticks": ""
             }
            },
            "type": "scattergeo"
           }
          ],
          "scattergl": [
           {
            "marker": {
             "line": {
              "color": "#283442"
             }
            },
            "type": "scattergl"
           }
          ],
          "scattermapbox": [
           {
            "marker": {
             "colorbar": {
              "outlinewidth": 0,
              "ticks": ""
             }
            },
            "type": "scattermapbox"
           }
          ],
          "scatterpolar": [
           {
            "marker": {
             "colorbar": {
              "outlinewidth": 0,
              "ticks": ""
             }
            },
            "type": "scatterpolar"
           }
          ],
          "scatterpolargl": [
           {
            "marker": {
             "colorbar": {
              "outlinewidth": 0,
              "ticks": ""
             }
            },
            "type": "scatterpolargl"
           }
          ],
          "scatterternary": [
           {
            "marker": {
             "colorbar": {
              "outlinewidth": 0,
              "ticks": ""
             }
            },
            "type": "scatterternary"
           }
          ],
          "surface": [
           {
            "colorbar": {
             "outlinewidth": 0,
             "ticks": ""
            },
            "colorscale": [
             [
              0,
              "#0d0887"
             ],
             [
              0.1111111111111111,
              "#46039f"
             ],
             [
              0.2222222222222222,
              "#7201a8"
             ],
             [
              0.3333333333333333,
              "#9c179e"
             ],
             [
              0.4444444444444444,
              "#bd3786"
             ],
             [
              0.5555555555555556,
              "#d8576b"
             ],
             [
              0.6666666666666666,
              "#ed7953"
             ],
             [
              0.7777777777777778,
              "#fb9f3a"
             ],
             [
              0.8888888888888888,
              "#fdca26"
             ],
             [
              1,
              "#f0f921"
             ]
            ],
            "type": "surface"
           }
          ],
          "table": [
           {
            "cells": {
             "fill": {
              "color": "#506784"
             },
             "line": {
              "color": "rgb(17,17,17)"
             }
            },
            "header": {
             "fill": {
              "color": "#2a3f5f"
             },
             "line": {
              "color": "rgb(17,17,17)"
             }
            },
            "type": "table"
           }
          ]
         },
         "layout": {
          "annotationdefaults": {
           "arrowcolor": "#f2f5fa",
           "arrowhead": 0,
           "arrowwidth": 1
          },
          "autotypenumbers": "strict",
          "coloraxis": {
           "colorbar": {
            "outlinewidth": 0,
            "ticks": ""
           }
          },
          "colorscale": {
           "diverging": [
            [
             0,
             "#8e0152"
            ],
            [
             0.1,
             "#c51b7d"
            ],
            [
             0.2,
             "#de77ae"
            ],
            [
             0.3,
             "#f1b6da"
            ],
            [
             0.4,
             "#fde0ef"
            ],
            [
             0.5,
             "#f7f7f7"
            ],
            [
             0.6,
             "#e6f5d0"
            ],
            [
             0.7,
             "#b8e186"
            ],
            [
             0.8,
             "#7fbc41"
            ],
            [
             0.9,
             "#4d9221"
            ],
            [
             1,
             "#276419"
            ]
           ],
           "sequential": [
            [
             0,
             "#0d0887"
            ],
            [
             0.1111111111111111,
             "#46039f"
            ],
            [
             0.2222222222222222,
             "#7201a8"
            ],
            [
             0.3333333333333333,
             "#9c179e"
            ],
            [
             0.4444444444444444,
             "#bd3786"
            ],
            [
             0.5555555555555556,
             "#d8576b"
            ],
            [
             0.6666666666666666,
             "#ed7953"
            ],
            [
             0.7777777777777778,
             "#fb9f3a"
            ],
            [
             0.8888888888888888,
             "#fdca26"
            ],
            [
             1,
             "#f0f921"
            ]
           ],
           "sequentialminus": [
            [
             0,
             "#0d0887"
            ],
            [
             0.1111111111111111,
             "#46039f"
            ],
            [
             0.2222222222222222,
             "#7201a8"
            ],
            [
             0.3333333333333333,
             "#9c179e"
            ],
            [
             0.4444444444444444,
             "#bd3786"
            ],
            [
             0.5555555555555556,
             "#d8576b"
            ],
            [
             0.6666666666666666,
             "#ed7953"
            ],
            [
             0.7777777777777778,
             "#fb9f3a"
            ],
            [
             0.8888888888888888,
             "#fdca26"
            ],
            [
             1,
             "#f0f921"
            ]
           ]
          },
          "colorway": [
           "#636efa",
           "#EF553B",
           "#00cc96",
           "#ab63fa",
           "#FFA15A",
           "#19d3f3",
           "#FF6692",
           "#B6E880",
           "#FF97FF",
           "#FECB52"
          ],
          "font": {
           "color": "#f2f5fa"
          },
          "geo": {
           "bgcolor": "rgb(17,17,17)",
           "lakecolor": "rgb(17,17,17)",
           "landcolor": "rgb(17,17,17)",
           "showlakes": true,
           "showland": true,
           "subunitcolor": "#506784"
          },
          "hoverlabel": {
           "align": "left"
          },
          "hovermode": "closest",
          "mapbox": {
           "style": "dark"
          },
          "paper_bgcolor": "rgb(17,17,17)",
          "plot_bgcolor": "rgb(17,17,17)",
          "polar": {
           "angularaxis": {
            "gridcolor": "#506784",
            "linecolor": "#506784",
            "ticks": ""
           },
           "bgcolor": "rgb(17,17,17)",
           "radialaxis": {
            "gridcolor": "#506784",
            "linecolor": "#506784",
            "ticks": ""
           }
          },
          "scene": {
           "xaxis": {
            "backgroundcolor": "rgb(17,17,17)",
            "gridcolor": "#506784",
            "gridwidth": 2,
            "linecolor": "#506784",
            "showbackground": true,
            "ticks": "",
            "zerolinecolor": "#C8D4E3"
           },
           "yaxis": {
            "backgroundcolor": "rgb(17,17,17)",
            "gridcolor": "#506784",
            "gridwidth": 2,
            "linecolor": "#506784",
            "showbackground": true,
            "ticks": "",
            "zerolinecolor": "#C8D4E3"
           },
           "zaxis": {
            "backgroundcolor": "rgb(17,17,17)",
            "gridcolor": "#506784",
            "gridwidth": 2,
            "linecolor": "#506784",
            "showbackground": true,
            "ticks": "",
            "zerolinecolor": "#C8D4E3"
           }
          },
          "shapedefaults": {
           "line": {
            "color": "#f2f5fa"
           }
          },
          "sliderdefaults": {
           "bgcolor": "#C8D4E3",
           "bordercolor": "rgb(17,17,17)",
           "borderwidth": 1,
           "tickwidth": 0
          },
          "ternary": {
           "aaxis": {
            "gridcolor": "#506784",
            "linecolor": "#506784",
            "ticks": ""
           },
           "baxis": {
            "gridcolor": "#506784",
            "linecolor": "#506784",
            "ticks": ""
           },
           "bgcolor": "rgb(17,17,17)",
           "caxis": {
            "gridcolor": "#506784",
            "linecolor": "#506784",
            "ticks": ""
           }
          },
          "title": {
           "x": 0.05
          },
          "updatemenudefaults": {
           "bgcolor": "#506784",
           "borderwidth": 0
          },
          "xaxis": {
           "automargin": true,
           "gridcolor": "#283442",
           "linecolor": "#506784",
           "ticks": "",
           "title": {
            "standoff": 15
           },
           "zerolinecolor": "#283442",
           "zerolinewidth": 2
          },
          "yaxis": {
           "automargin": true,
           "gridcolor": "#283442",
           "linecolor": "#506784",
           "ticks": "",
           "title": {
            "standoff": 15
           },
           "zerolinecolor": "#283442",
           "zerolinewidth": 2
          }
         }
        },
        "title": {
         "font": {
          "size": 16
         },
         "text": "Max Accuracy over Features"
        },
        "width": 800,
        "xaxis": {
         "anchor": "y",
         "domain": [
          0,
          1
         ],
         "title": {
          "text": "Number of Featured Words"
         }
        },
        "yaxis": {
         "anchor": "x",
         "domain": [
          0,
          1
         ],
         "title": {
          "text": "Model Accuracy"
         }
        }
       }
      }
     },
     "metadata": {},
     "output_type": "display_data"
    }
   ],
   "source": [
    "pio.templates.default = \"plotly_dark\"\n",
    "\n",
    "\n",
    "# Création du graphique interactif\n",
    "fig = px.line(\n",
    "    plot_acc,\n",
    "    x=\"features\",\n",
    "    y=\"accuracy\",\n",
    "    title=\"Max Accuracy over Features\",\n",
    "    labels={\"features\": \"Number of Featured Words\", \"accuracy\": \"Model Accuracy\"},\n",
    "    markers=True  #\n",
    ")\n",
    "\n",
    "fig.update_traces(line=dict(color=\"royalblue\"), marker=dict(size=8))\n",
    "fig.update_layout(title_font_size=16, font_size=12)\n",
    "fig.update_layout(\n",
    "    width=800,   \n",
    "    height=500   \n",
    ")\n",
    "\n",
    "fig.show()\n"
   ]
  }
 ],
 "metadata": {
  "kernelspec": {
   "display_name": "Python 3",
   "language": "python",
   "name": "python3"
  },
  "language_info": {
   "codemirror_mode": {
    "name": "ipython",
    "version": 3
   },
   "file_extension": ".py",
   "mimetype": "text/x-python",
   "name": "python",
   "nbconvert_exporter": "python",
   "pygments_lexer": "ipython3",
   "version": "3.11.2"
  }
 },
 "nbformat": 4,
 "nbformat_minor": 5
}
